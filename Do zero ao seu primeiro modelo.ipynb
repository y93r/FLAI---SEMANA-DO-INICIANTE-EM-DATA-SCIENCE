{
 "cells": [
  {
   "cell_type": "markdown",
   "id": "06035c02",
   "metadata": {},
   "source": [
    "# Como usar Machine Learning para dar o melhor atendimento para os seus clientes?"
   ]
  },
  {
   "cell_type": "markdown",
   "id": "8777f2a2",
   "metadata": {},
   "source": [
    "## Parte 1: Introdução ao problema de negócio"
   ]
  },
  {
   "cell_type": "markdown",
   "id": "82208609",
   "metadata": {},
   "source": [
    "Uma rede de roupas verejista, com diversas lojas espalhadas pelo país, deseja melhor o <u>nível de satisfação</u> dos seus clientes.\n",
    "\n",
    "Ao fazer uma pesquisa de satisfação com alguns clientes, encontraram os seguintes comentários:\n",
    "> \"O vendedor fica me mostrando um monte de roupas que, na hora de pagar, descubro que **não posso pagar o preço exorbitante de diversas peças**. <u>Me senti extremamente humilhado</u>\"\n",
    "\n",
    "> \"A experiência foi <u>ridícula</u>! Fui pra comprar roupas finas, para a festa de aniversário da minha sobrinha, e só me foram mostrados **produtos de qualidade inferior**. O vendedor <u>me julgou pela forma como eu estava vestido</u> ou o que?\"\n",
    "\n",
    "> Deviam <u>fechar a loja da cidade</u>! **Preço abusivo, descorrelacionado com o custo de vida daqui**.\n",
    "\n",
    "Por possuir roupas de diversas qualidades e clientes com preferências muito diversas, esse projeto se tornou um desafio.\n",
    "\n",
    "Atualmente a loja possui uma política padrão, de sempre enviar <u>todas as qualidades de produtos para todas as lojas</u>, e fornecer um <u>treinamento padrão para todos os colaboradores</u>.\n",
    "\n",
    "### Como fornecer uma forma de tirar <u>insights dos dados</u> para criar <u>políticas individualizadas</u> para cada uma das lojas/clientes?\n",
    "\n",
    "<hr/>"
   ]
  },
  {
   "cell_type": "markdown",
   "id": "eb897950",
   "metadata": {},
   "source": [
    "## Parte 2: Dando uma olhada nos dados"
   ]
  },
  {
   "cell_type": "code",
   "execution_count": 1,
   "id": "f08eea01",
   "metadata": {},
   "outputs": [],
   "source": [
    "import numpy as np\n",
    "import pandas as pd\n",
    "import matplotlib.pyplot as plt"
   ]
  },
  {
   "cell_type": "code",
   "execution_count": 2,
   "id": "1ae08514",
   "metadata": {},
   "outputs": [
    {
     "data": {
      "text/html": [
       "<div>\n",
       "<style scoped>\n",
       "    .dataframe tbody tr th:only-of-type {\n",
       "        vertical-align: middle;\n",
       "    }\n",
       "\n",
       "    .dataframe tbody tr th {\n",
       "        vertical-align: top;\n",
       "    }\n",
       "\n",
       "    .dataframe thead th {\n",
       "        text-align: right;\n",
       "    }\n",
       "</style>\n",
       "<table border=\"1\" class=\"dataframe\">\n",
       "  <thead>\n",
       "    <tr style=\"text-align: right;\">\n",
       "      <th></th>\n",
       "      <th>Sex</th>\n",
       "      <th>Marital status</th>\n",
       "      <th>Age</th>\n",
       "      <th>Education</th>\n",
       "      <th>Income</th>\n",
       "      <th>Occupation</th>\n",
       "      <th>Settlement size</th>\n",
       "    </tr>\n",
       "    <tr>\n",
       "      <th>ID</th>\n",
       "      <th></th>\n",
       "      <th></th>\n",
       "      <th></th>\n",
       "      <th></th>\n",
       "      <th></th>\n",
       "      <th></th>\n",
       "      <th></th>\n",
       "    </tr>\n",
       "  </thead>\n",
       "  <tbody>\n",
       "    <tr>\n",
       "      <th>100000001</th>\n",
       "      <td>0</td>\n",
       "      <td>0</td>\n",
       "      <td>67</td>\n",
       "      <td>2</td>\n",
       "      <td>124670</td>\n",
       "      <td>1</td>\n",
       "      <td>2</td>\n",
       "    </tr>\n",
       "    <tr>\n",
       "      <th>100000002</th>\n",
       "      <td>1</td>\n",
       "      <td>1</td>\n",
       "      <td>22</td>\n",
       "      <td>1</td>\n",
       "      <td>150773</td>\n",
       "      <td>1</td>\n",
       "      <td>2</td>\n",
       "    </tr>\n",
       "    <tr>\n",
       "      <th>100000003</th>\n",
       "      <td>0</td>\n",
       "      <td>0</td>\n",
       "      <td>49</td>\n",
       "      <td>1</td>\n",
       "      <td>89210</td>\n",
       "      <td>0</td>\n",
       "      <td>0</td>\n",
       "    </tr>\n",
       "    <tr>\n",
       "      <th>100000004</th>\n",
       "      <td>0</td>\n",
       "      <td>0</td>\n",
       "      <td>45</td>\n",
       "      <td>1</td>\n",
       "      <td>171565</td>\n",
       "      <td>1</td>\n",
       "      <td>1</td>\n",
       "    </tr>\n",
       "    <tr>\n",
       "      <th>100000005</th>\n",
       "      <td>0</td>\n",
       "      <td>0</td>\n",
       "      <td>53</td>\n",
       "      <td>1</td>\n",
       "      <td>149031</td>\n",
       "      <td>1</td>\n",
       "      <td>1</td>\n",
       "    </tr>\n",
       "    <tr>\n",
       "      <th>...</th>\n",
       "      <td>...</td>\n",
       "      <td>...</td>\n",
       "      <td>...</td>\n",
       "      <td>...</td>\n",
       "      <td>...</td>\n",
       "      <td>...</td>\n",
       "      <td>...</td>\n",
       "    </tr>\n",
       "    <tr>\n",
       "      <th>100001996</th>\n",
       "      <td>1</td>\n",
       "      <td>0</td>\n",
       "      <td>47</td>\n",
       "      <td>1</td>\n",
       "      <td>123525</td>\n",
       "      <td>0</td>\n",
       "      <td>0</td>\n",
       "    </tr>\n",
       "    <tr>\n",
       "      <th>100001997</th>\n",
       "      <td>1</td>\n",
       "      <td>1</td>\n",
       "      <td>27</td>\n",
       "      <td>1</td>\n",
       "      <td>117744</td>\n",
       "      <td>1</td>\n",
       "      <td>0</td>\n",
       "    </tr>\n",
       "    <tr>\n",
       "      <th>100001998</th>\n",
       "      <td>0</td>\n",
       "      <td>0</td>\n",
       "      <td>31</td>\n",
       "      <td>0</td>\n",
       "      <td>86400</td>\n",
       "      <td>0</td>\n",
       "      <td>0</td>\n",
       "    </tr>\n",
       "    <tr>\n",
       "      <th>100001999</th>\n",
       "      <td>1</td>\n",
       "      <td>1</td>\n",
       "      <td>24</td>\n",
       "      <td>1</td>\n",
       "      <td>97968</td>\n",
       "      <td>0</td>\n",
       "      <td>0</td>\n",
       "    </tr>\n",
       "    <tr>\n",
       "      <th>100002000</th>\n",
       "      <td>0</td>\n",
       "      <td>0</td>\n",
       "      <td>25</td>\n",
       "      <td>0</td>\n",
       "      <td>68416</td>\n",
       "      <td>0</td>\n",
       "      <td>0</td>\n",
       "    </tr>\n",
       "  </tbody>\n",
       "</table>\n",
       "<p>2000 rows × 7 columns</p>\n",
       "</div>"
      ],
      "text/plain": [
       "           Sex  Marital status  Age  Education  Income  Occupation  \\\n",
       "ID                                                                   \n",
       "100000001    0               0   67          2  124670           1   \n",
       "100000002    1               1   22          1  150773           1   \n",
       "100000003    0               0   49          1   89210           0   \n",
       "100000004    0               0   45          1  171565           1   \n",
       "100000005    0               0   53          1  149031           1   \n",
       "...        ...             ...  ...        ...     ...         ...   \n",
       "100001996    1               0   47          1  123525           0   \n",
       "100001997    1               1   27          1  117744           1   \n",
       "100001998    0               0   31          0   86400           0   \n",
       "100001999    1               1   24          1   97968           0   \n",
       "100002000    0               0   25          0   68416           0   \n",
       "\n",
       "           Settlement size  \n",
       "ID                          \n",
       "100000001                2  \n",
       "100000002                2  \n",
       "100000003                0  \n",
       "100000004                1  \n",
       "100000005                1  \n",
       "...                    ...  \n",
       "100001996                0  \n",
       "100001997                0  \n",
       "100001998                0  \n",
       "100001999                0  \n",
       "100002000                0  \n",
       "\n",
       "[2000 rows x 7 columns]"
      ]
     },
     "execution_count": 2,
     "metadata": {},
     "output_type": "execute_result"
    }
   ],
   "source": [
    "df = pd.read_csv('segmentation data.csv').set_index('ID')\n",
    "df"
   ]
  },
  {
   "cell_type": "markdown",
   "id": "4d14c609",
   "metadata": {},
   "source": [
    "<img src=\"depara2.JPG\" />"
   ]
  },
  {
   "cell_type": "markdown",
   "id": "56ec72cd",
   "metadata": {},
   "source": [
    "### Proposta inicial: Vamos direcionar produtos de acordo com a renda da maior parte dos clientes que frequentam cada uma das lojas. \n",
    "\n",
    "> Podemos até criar nomes diferentes para que o cliente possa facilmente distinguir o preço esperado em cada uma das lojas!\n",
    "\n",
    "**Problema:** Por questões da Lei Geral de Proteção ao Dados <u>não podemos mais coletar dados de renda dos clientes</u> para esta finalidade.\n",
    "\n",
    "Todas as outras variáveis ainda estão disponíveis\n",
    "\n",
    "### Será que podemos <i>relacionar</i> a renda com as outras variáveis, mais facilmente acessíveis?\n",
    "<hr />"
   ]
  },
  {
   "cell_type": "markdown",
   "id": "45d56d40",
   "metadata": {},
   "source": [
    "## Parte 3: Visualização"
   ]
  },
  {
   "cell_type": "code",
   "execution_count": 3,
   "id": "cc2543ae",
   "metadata": {},
   "outputs": [
    {
     "data": {
      "text/html": [
       "<div>\n",
       "<style scoped>\n",
       "    .dataframe tbody tr th:only-of-type {\n",
       "        vertical-align: middle;\n",
       "    }\n",
       "\n",
       "    .dataframe tbody tr th {\n",
       "        vertical-align: top;\n",
       "    }\n",
       "\n",
       "    .dataframe thead th {\n",
       "        text-align: right;\n",
       "    }\n",
       "</style>\n",
       "<table border=\"1\" class=\"dataframe\">\n",
       "  <thead>\n",
       "    <tr style=\"text-align: right;\">\n",
       "      <th></th>\n",
       "      <th>Sex</th>\n",
       "      <th>Marital status</th>\n",
       "      <th>Age</th>\n",
       "      <th>Education</th>\n",
       "      <th>Income</th>\n",
       "      <th>Occupation</th>\n",
       "      <th>Settlement size</th>\n",
       "    </tr>\n",
       "    <tr>\n",
       "      <th>ID</th>\n",
       "      <th></th>\n",
       "      <th></th>\n",
       "      <th></th>\n",
       "      <th></th>\n",
       "      <th></th>\n",
       "      <th></th>\n",
       "      <th></th>\n",
       "    </tr>\n",
       "  </thead>\n",
       "  <tbody>\n",
       "    <tr>\n",
       "      <th>100000001</th>\n",
       "      <td>0</td>\n",
       "      <td>0</td>\n",
       "      <td>67</td>\n",
       "      <td>2</td>\n",
       "      <td>124670</td>\n",
       "      <td>1</td>\n",
       "      <td>2</td>\n",
       "    </tr>\n",
       "    <tr>\n",
       "      <th>100000002</th>\n",
       "      <td>1</td>\n",
       "      <td>1</td>\n",
       "      <td>22</td>\n",
       "      <td>1</td>\n",
       "      <td>150773</td>\n",
       "      <td>1</td>\n",
       "      <td>2</td>\n",
       "    </tr>\n",
       "    <tr>\n",
       "      <th>100000003</th>\n",
       "      <td>0</td>\n",
       "      <td>0</td>\n",
       "      <td>49</td>\n",
       "      <td>1</td>\n",
       "      <td>89210</td>\n",
       "      <td>0</td>\n",
       "      <td>0</td>\n",
       "    </tr>\n",
       "    <tr>\n",
       "      <th>100000004</th>\n",
       "      <td>0</td>\n",
       "      <td>0</td>\n",
       "      <td>45</td>\n",
       "      <td>1</td>\n",
       "      <td>171565</td>\n",
       "      <td>1</td>\n",
       "      <td>1</td>\n",
       "    </tr>\n",
       "    <tr>\n",
       "      <th>100000005</th>\n",
       "      <td>0</td>\n",
       "      <td>0</td>\n",
       "      <td>53</td>\n",
       "      <td>1</td>\n",
       "      <td>149031</td>\n",
       "      <td>1</td>\n",
       "      <td>1</td>\n",
       "    </tr>\n",
       "    <tr>\n",
       "      <th>...</th>\n",
       "      <td>...</td>\n",
       "      <td>...</td>\n",
       "      <td>...</td>\n",
       "      <td>...</td>\n",
       "      <td>...</td>\n",
       "      <td>...</td>\n",
       "      <td>...</td>\n",
       "    </tr>\n",
       "    <tr>\n",
       "      <th>100001996</th>\n",
       "      <td>1</td>\n",
       "      <td>0</td>\n",
       "      <td>47</td>\n",
       "      <td>1</td>\n",
       "      <td>123525</td>\n",
       "      <td>0</td>\n",
       "      <td>0</td>\n",
       "    </tr>\n",
       "    <tr>\n",
       "      <th>100001997</th>\n",
       "      <td>1</td>\n",
       "      <td>1</td>\n",
       "      <td>27</td>\n",
       "      <td>1</td>\n",
       "      <td>117744</td>\n",
       "      <td>1</td>\n",
       "      <td>0</td>\n",
       "    </tr>\n",
       "    <tr>\n",
       "      <th>100001998</th>\n",
       "      <td>0</td>\n",
       "      <td>0</td>\n",
       "      <td>31</td>\n",
       "      <td>0</td>\n",
       "      <td>86400</td>\n",
       "      <td>0</td>\n",
       "      <td>0</td>\n",
       "    </tr>\n",
       "    <tr>\n",
       "      <th>100001999</th>\n",
       "      <td>1</td>\n",
       "      <td>1</td>\n",
       "      <td>24</td>\n",
       "      <td>1</td>\n",
       "      <td>97968</td>\n",
       "      <td>0</td>\n",
       "      <td>0</td>\n",
       "    </tr>\n",
       "    <tr>\n",
       "      <th>100002000</th>\n",
       "      <td>0</td>\n",
       "      <td>0</td>\n",
       "      <td>25</td>\n",
       "      <td>0</td>\n",
       "      <td>68416</td>\n",
       "      <td>0</td>\n",
       "      <td>0</td>\n",
       "    </tr>\n",
       "  </tbody>\n",
       "</table>\n",
       "<p>2000 rows × 7 columns</p>\n",
       "</div>"
      ],
      "text/plain": [
       "           Sex  Marital status  Age  Education  Income  Occupation  \\\n",
       "ID                                                                   \n",
       "100000001    0               0   67          2  124670           1   \n",
       "100000002    1               1   22          1  150773           1   \n",
       "100000003    0               0   49          1   89210           0   \n",
       "100000004    0               0   45          1  171565           1   \n",
       "100000005    0               0   53          1  149031           1   \n",
       "...        ...             ...  ...        ...     ...         ...   \n",
       "100001996    1               0   47          1  123525           0   \n",
       "100001997    1               1   27          1  117744           1   \n",
       "100001998    0               0   31          0   86400           0   \n",
       "100001999    1               1   24          1   97968           0   \n",
       "100002000    0               0   25          0   68416           0   \n",
       "\n",
       "           Settlement size  \n",
       "ID                          \n",
       "100000001                2  \n",
       "100000002                2  \n",
       "100000003                0  \n",
       "100000004                1  \n",
       "100000005                1  \n",
       "...                    ...  \n",
       "100001996                0  \n",
       "100001997                0  \n",
       "100001998                0  \n",
       "100001999                0  \n",
       "100002000                0  \n",
       "\n",
       "[2000 rows x 7 columns]"
      ]
     },
     "execution_count": 3,
     "metadata": {},
     "output_type": "execute_result"
    }
   ],
   "source": [
    "df"
   ]
  },
  {
   "cell_type": "code",
   "execution_count": 4,
   "id": "e0a83de4",
   "metadata": {},
   "outputs": [
    {
     "data": {
      "text/plain": [
       "<AxesSubplot:>"
      ]
     },
     "execution_count": 4,
     "metadata": {},
     "output_type": "execute_result"
    },
    {
     "data": {
      "image/png": "[encoded data removed]",
      "text/plain": [
       "<Figure size 1080x360 with 1 Axes>"
      ]
     },
     "metadata": {
      "needs_background": "light"
     },
     "output_type": "display_data"
    }
   ],
   "source": [
    "plt.figure(figsize=(15,5))\n",
    "df['Income'].hist(bins=10, rwidth=0.90)"
   ]
  },
  {
   "cell_type": "code",
   "execution_count": null,
   "id": "03c12ee8",
   "metadata": {},
   "outputs": [],
   "source": []
  },
  {
   "cell_type": "markdown",
   "id": "95d9a259",
   "metadata": {},
   "source": [
    "## Parte 4: Criando as variáveis de modelagem"
   ]
  },
  {
   "cell_type": "code",
   "execution_count": 5,
   "id": "6769ae7e",
   "metadata": {},
   "outputs": [],
   "source": [
    "X = df.drop('Income', axis=1)\n",
    "y = df['Income']"
   ]
  },
  {
   "cell_type": "markdown",
   "id": "4f7560de",
   "metadata": {},
   "source": [
    "#### Separação em treino e teste"
   ]
  },
  {
   "cell_type": "code",
   "execution_count": 6,
   "id": "725c1aa2",
   "metadata": {},
   "outputs": [],
   "source": [
    "from sklearn.model_selection import train_test_split\n",
    "\n",
    "X_tr, X_ts, y_tr, y_ts = train_test_split(X,y, test_size=0.20, random_state=61658)"
   ]
  },
  {
   "cell_type": "code",
   "execution_count": 7,
   "id": "e903475f",
   "metadata": {},
   "outputs": [
    {
     "data": {
      "text/plain": [
       "ID\n",
       "100001631     71076\n",
       "100001380    104833\n",
       "100001130    159716\n",
       "100001474     92342\n",
       "100000409    171860\n",
       "              ...  \n",
       "100001768     83481\n",
       "100001354    123194\n",
       "100001633    125538\n",
       "100001469    100560\n",
       "100000702    157473\n",
       "Name: Income, Length: 400, dtype: int64"
      ]
     },
     "execution_count": 7,
     "metadata": {},
     "output_type": "execute_result"
    }
   ],
   "source": [
    "y_ts"
   ]
  },
  {
   "cell_type": "code",
   "execution_count": 8,
   "id": "01741148",
   "metadata": {},
   "outputs": [
    {
     "data": {
      "text/html": [
       "<div>\n",
       "<style scoped>\n",
       "    .dataframe tbody tr th:only-of-type {\n",
       "        vertical-align: middle;\n",
       "    }\n",
       "\n",
       "    .dataframe tbody tr th {\n",
       "        vertical-align: top;\n",
       "    }\n",
       "\n",
       "    .dataframe thead th {\n",
       "        text-align: right;\n",
       "    }\n",
       "</style>\n",
       "<table border=\"1\" class=\"dataframe\">\n",
       "  <thead>\n",
       "    <tr style=\"text-align: right;\">\n",
       "      <th></th>\n",
       "      <th>Sex</th>\n",
       "      <th>Marital status</th>\n",
       "      <th>Age</th>\n",
       "      <th>Education</th>\n",
       "      <th>Occupation</th>\n",
       "      <th>Settlement size</th>\n",
       "    </tr>\n",
       "    <tr>\n",
       "      <th>ID</th>\n",
       "      <th></th>\n",
       "      <th></th>\n",
       "      <th></th>\n",
       "      <th></th>\n",
       "      <th></th>\n",
       "      <th></th>\n",
       "    </tr>\n",
       "  </thead>\n",
       "  <tbody>\n",
       "    <tr>\n",
       "      <th>100001631</th>\n",
       "      <td>0</td>\n",
       "      <td>0</td>\n",
       "      <td>23</td>\n",
       "      <td>0</td>\n",
       "      <td>0</td>\n",
       "      <td>0</td>\n",
       "    </tr>\n",
       "    <tr>\n",
       "      <th>100001380</th>\n",
       "      <td>1</td>\n",
       "      <td>0</td>\n",
       "      <td>48</td>\n",
       "      <td>2</td>\n",
       "      <td>0</td>\n",
       "      <td>0</td>\n",
       "    </tr>\n",
       "    <tr>\n",
       "      <th>100001130</th>\n",
       "      <td>0</td>\n",
       "      <td>0</td>\n",
       "      <td>52</td>\n",
       "      <td>1</td>\n",
       "      <td>1</td>\n",
       "      <td>2</td>\n",
       "    </tr>\n",
       "    <tr>\n",
       "      <th>100001474</th>\n",
       "      <td>1</td>\n",
       "      <td>0</td>\n",
       "      <td>45</td>\n",
       "      <td>2</td>\n",
       "      <td>0</td>\n",
       "      <td>0</td>\n",
       "    </tr>\n",
       "    <tr>\n",
       "      <th>100000409</th>\n",
       "      <td>0</td>\n",
       "      <td>1</td>\n",
       "      <td>26</td>\n",
       "      <td>1</td>\n",
       "      <td>2</td>\n",
       "      <td>0</td>\n",
       "    </tr>\n",
       "    <tr>\n",
       "      <th>...</th>\n",
       "      <td>...</td>\n",
       "      <td>...</td>\n",
       "      <td>...</td>\n",
       "      <td>...</td>\n",
       "      <td>...</td>\n",
       "      <td>...</td>\n",
       "    </tr>\n",
       "    <tr>\n",
       "      <th>100001768</th>\n",
       "      <td>1</td>\n",
       "      <td>0</td>\n",
       "      <td>41</td>\n",
       "      <td>1</td>\n",
       "      <td>0</td>\n",
       "      <td>0</td>\n",
       "    </tr>\n",
       "    <tr>\n",
       "      <th>100001354</th>\n",
       "      <td>1</td>\n",
       "      <td>1</td>\n",
       "      <td>52</td>\n",
       "      <td>2</td>\n",
       "      <td>1</td>\n",
       "      <td>0</td>\n",
       "    </tr>\n",
       "    <tr>\n",
       "      <th>100001633</th>\n",
       "      <td>1</td>\n",
       "      <td>1</td>\n",
       "      <td>26</td>\n",
       "      <td>1</td>\n",
       "      <td>1</td>\n",
       "      <td>0</td>\n",
       "    </tr>\n",
       "    <tr>\n",
       "      <th>100001469</th>\n",
       "      <td>1</td>\n",
       "      <td>0</td>\n",
       "      <td>27</td>\n",
       "      <td>1</td>\n",
       "      <td>0</td>\n",
       "      <td>0</td>\n",
       "    </tr>\n",
       "    <tr>\n",
       "      <th>100000702</th>\n",
       "      <td>0</td>\n",
       "      <td>0</td>\n",
       "      <td>46</td>\n",
       "      <td>1</td>\n",
       "      <td>1</td>\n",
       "      <td>0</td>\n",
       "    </tr>\n",
       "  </tbody>\n",
       "</table>\n",
       "<p>400 rows × 6 columns</p>\n",
       "</div>"
      ],
      "text/plain": [
       "           Sex  Marital status  Age  Education  Occupation  Settlement size\n",
       "ID                                                                         \n",
       "100001631    0               0   23          0           0                0\n",
       "100001380    1               0   48          2           0                0\n",
       "100001130    0               0   52          1           1                2\n",
       "100001474    1               0   45          2           0                0\n",
       "100000409    0               1   26          1           2                0\n",
       "...        ...             ...  ...        ...         ...              ...\n",
       "100001768    1               0   41          1           0                0\n",
       "100001354    1               1   52          2           1                0\n",
       "100001633    1               1   26          1           1                0\n",
       "100001469    1               0   27          1           0                0\n",
       "100000702    0               0   46          1           1                0\n",
       "\n",
       "[400 rows x 6 columns]"
      ]
     },
     "execution_count": 8,
     "metadata": {},
     "output_type": "execute_result"
    }
   ],
   "source": [
    "X_ts"
   ]
  },
  {
   "cell_type": "markdown",
   "id": "9d699c4b",
   "metadata": {},
   "source": [
    "## Parte 5: Criando seu modelo (do jeito errado)"
   ]
  },
  {
   "cell_type": "code",
   "execution_count": null,
   "id": "eba8a433",
   "metadata": {},
   "outputs": [],
   "source": [
    "from sklearn.tree import DecisionTreeRegressor\n",
    "\n",
    "# NUNCA, NUNCA, NUNCA, NUNCA façam isso!\n",
    "dt = DecisionTreeRegressor()\n",
    "dt.fit(X_tr,y_tr)"
   ]
  },
  {
   "cell_type": "code",
   "execution_count": null,
   "id": "d52956b0",
   "metadata": {},
   "outputs": [],
   "source": [
    "# from sklearn.tree import plot_tree\n",
    "\n",
    "# plt.figure(figsize=(15,7))\n",
    "# plot_tree(dt); #Isso não vai rodar!"
   ]
  },
  {
   "cell_type": "code",
   "execution_count": null,
   "id": "fe282c1a",
   "metadata": {},
   "outputs": [],
   "source": [
    "from sklearn.tree import plot_tree\n",
    "\n",
    "plt.figure(figsize=(15,7))\n",
    "plot_tree(dt, max_depth=6); "
   ]
  },
  {
   "cell_type": "markdown",
   "id": "f6da50a9",
   "metadata": {},
   "source": [
    "## Precisamos reduzir isso! Isso é a mesma coisa que falar individualmente com cada cliente!\n",
    "\n",
    "<hr />"
   ]
  },
  {
   "cell_type": "markdown",
   "id": "3a952ed7",
   "metadata": {},
   "source": [
    "## Parte 6: Fazendo seu primeiro modelo (do jeito certo)\n",
    "### Otimizando parâmetros\n",
    "\n",
    "https://scikit-learn.org/stable/modules/generated/sklearn.tree.DecisionTreeRegressor.html\n",
    "\n",
    "https://scikit-learn.org/stable/modules/generated/sklearn.model_selection.GridSearchCV.html"
   ]
  },
  {
   "cell_type": "code",
   "execution_count": null,
   "id": "b434c884",
   "metadata": {},
   "outputs": [],
   "source": [
    "from sklearn.tree import DecisionTreeRegressor\n",
    "from sklearn.model_selection import GridSearchCV\n",
    "\n",
    "params = {\n",
    "    'max_leaf_nodes': [3,4,5,6,7,8],\n",
    "    'min_samples_leaf': [5,10,20],\n",
    "}\n",
    "\n",
    "model = GridSearchCV(\n",
    "    DecisionTreeRegressor(random_state=61658),\n",
    "    params,\n",
    "    cv=10,\n",
    "    scoring='neg_mean_squared_error',\n",
    "    verbose=10,\n",
    "    n_jobs=1,\n",
    ")\n",
    "\n",
    "model.fit(X_tr,y_tr)"
   ]
  },
  {
   "cell_type": "code",
   "execution_count": null,
   "id": "5518b424",
   "metadata": {},
   "outputs": [],
   "source": [
    "model.best_params_"
   ]
  },
  {
   "cell_type": "code",
   "execution_count": null,
   "id": "72444a0a",
   "metadata": {},
   "outputs": [],
   "source": [
    "(model.best_score_*(-1))**0.50"
   ]
  },
  {
   "cell_type": "code",
   "execution_count": null,
   "id": "c60e2fd6",
   "metadata": {},
   "outputs": [],
   "source": [
    "from sklearn.metrics import mean_squared_error\n",
    "mean_squared_error(y_ts, model.predict(X_ts))**0.50"
   ]
  },
  {
   "cell_type": "markdown",
   "id": "1df31a0e",
   "metadata": {},
   "source": [
    "## Parte 7: Avaliando os resultados"
   ]
  },
  {
   "cell_type": "code",
   "execution_count": null,
   "id": "9ffc8b2f",
   "metadata": {},
   "outputs": [],
   "source": [
    "plt.figure(figsize=(15,5))\n",
    "plt.hist(y_ts - model.predict(X_ts), bins=15, rwidth=0.90)"
   ]
  },
  {
   "cell_type": "markdown",
   "id": "8bec1c3f",
   "metadata": {},
   "source": [
    "## Parte 8: Interpretando os resultados"
   ]
  },
  {
   "cell_type": "code",
   "execution_count": null,
   "id": "ac071f7d",
   "metadata": {},
   "outputs": [],
   "source": [
    "X_tr"
   ]
  },
  {
   "cell_type": "code",
   "execution_count": null,
   "id": "4ed84ad4",
   "metadata": {},
   "outputs": [],
   "source": [
    "from sklearn.tree import plot_tree\n",
    "\n",
    "plt.figure(figsize=(15,7))\n",
    "plot_tree(\n",
    "    model.best_estimator_,\n",
    "    feature_names = X_tr.columns,\n",
    "    filled=True,\n",
    "    node_ids=True,\n",
    "    rounded=True,\n",
    "    impurity=False,\n",
    "    precision=2\n",
    "); "
   ]
  },
  {
   "cell_type": "markdown",
   "id": "1a68b88e",
   "metadata": {},
   "source": [
    "## Parte 9: Uma outra abordagem: Modelo de classificação"
   ]
  },
  {
   "cell_type": "code",
   "execution_count": null,
   "id": "9aaefb36",
   "metadata": {},
   "outputs": [],
   "source": [
    "X = df.drop('Income',axis=1)\n",
    "y = df['Income'] >= 125_000"
   ]
  },
  {
   "cell_type": "code",
   "execution_count": null,
   "id": "058d8a9f",
   "metadata": {},
   "outputs": [],
   "source": [
    "X_tr, X_ts, y_tr, y_ts = train_test_split(X,y,test_size=.2, random_state=61658)"
   ]
  },
  {
   "cell_type": "code",
   "execution_count": null,
   "id": "19b42343",
   "metadata": {},
   "outputs": [],
   "source": [
    "from sklearn.tree import DecisionTreeClassifier\n",
    "\n",
    "params = {\n",
    "    'max_leaf_nodes': [3,4,5,6,7,8],\n",
    "    'min_samples_leaf': [5,10,20],\n",
    "}\n",
    "\n",
    "model = GridSearchCV(\n",
    "    DecisionTreeClassifier(random_state=61658),\n",
    "    params,\n",
    "    cv=10,\n",
    "    scoring='roc_auc',\n",
    "    verbose=10,\n",
    "    n_jobs=5,\n",
    ")\n",
    "\n",
    "model.fit(X_tr, y_tr)"
   ]
  },
  {
   "cell_type": "code",
   "execution_count": null,
   "id": "5dfe6cef",
   "metadata": {},
   "outputs": [],
   "source": [
    "from sklearn.metrics import roc_auc_score\n",
    "roc_auc_score(y_ts, model.predict_proba(X_ts)[:,1])"
   ]
  },
  {
   "cell_type": "code",
   "execution_count": null,
   "id": "e177ea80",
   "metadata": {},
   "outputs": [],
   "source": [
    "plt.figure(figsize=(15,5))\n",
    "nbins = 11\n",
    "plt.hist(model.predict_proba(X_ts.loc[y_ts==1])[:,1], bins=np.linspace(0,y_ts.max(), nbins), density=True, rwidth=.8, color='C0', alpha=.3, label='Baixa renda')\n",
    "plt.hist(model.predict_proba(X_ts.loc[y_ts==0])[:,1], bins=np.linspace(0,y_ts.max(), nbins), density=True, rwidth=.8, color='C3', alpha=.3, label='Alta renda')\n",
    "\n",
    "plt.legend(fontsize=14)"
   ]
  },
  {
   "cell_type": "code",
   "execution_count": null,
   "id": "dad43db5",
   "metadata": {},
   "outputs": [],
   "source": [
    "from sklearn.tree import plot_tree\n",
    "\n",
    "plt.figure(figsize=(15,12))\n",
    "plot_tree(\n",
    "    model.best_estimator_,\n",
    "    feature_names=X_tr.columns,\n",
    "    class_names=['baixa_renda','alta_renda'],\n",
    "    filled=True,\n",
    "    node_ids=True,\n",
    "    rounded=True,\n",
    "    precision=1,\n",
    ");"
   ]
  },
  {
   "cell_type": "code",
   "execution_count": null,
   "id": "56bd5074",
   "metadata": {},
   "outputs": [],
   "source": []
  }
 ],
 "metadata": {
  "kernelspec": {
   "display_name": "Python 3 (ipykernel)",
   "language": "python",
   "name": "python3"
  },
  "language_info": {
   "codemirror_mode": {
    "name": "ipython",
    "version": 3
   },
   "file_extension": ".py",
   "mimetype": "text/x-python",
   "name": "python",
   "nbconvert_exporter": "python",
   "pygments_lexer": "ipython3",
   "version": "3.9.7"
  }
 },
 "nbformat": 4,
 "nbformat_minor": 5
}
