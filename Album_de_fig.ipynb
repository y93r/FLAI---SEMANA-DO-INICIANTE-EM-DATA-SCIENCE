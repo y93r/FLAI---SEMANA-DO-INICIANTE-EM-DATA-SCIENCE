{
  "nbformat": 4,
  "nbformat_minor": 0,
  "metadata": {
    "colab": {
      "name": "Album de fig.ipynb",
      "provenance": [],
      "authorship_tag": "ABX9TyMc0kHf2XZXv1WHk1IhRVyd",
      "include_colab_link": true
    },
    "kernelspec": {
      "name": "python3",
      "display_name": "Python 3"
    },
    "language_info": {
      "name": "python"
    }
  },
  "cells": [
    {
      "cell_type": "markdown",
      "metadata": {
        "id": "view-in-github",
        "colab_type": "text"
      },
      "source": [
        "<a href=\"https://colab.research.google.com/github/y93r/FLAI---SEMANA-DO-INICIANTE-EM-DATA-SCIENCE/blob/main/Album_de_fig.ipynb\" target=\"_parent\"><img src=\"https://colab.research.google.com/assets/colab-badge.svg\" alt=\"Open In Colab\"/></a>"
      ]
    },
    {
      "cell_type": "markdown",
      "source": [
        "##### PERGUNTAS\n",
        "\n",
        "1.   Qual o valor médio investido para completar o álbum nessas condições?\n",
        "2.   Quantos pacotes são necessários comprar, em média, para completar o álbum?\n",
        "1.   Qual é a distribuição empírica do valor investido para completar o álbum?\n",
        "2.   Qual a probabilidade de se gastar menos que R$1500,00 para completar o álbum?\n",
        "1.   Qual a probabilidade de se gastar mais do que a média para completar o álbum?\n",
        "1.   Qual é um intervalo de confiança de 95% para o gasto ao se completar o álbum?\n",
        "2.   Qual o valor médio gasto caso se esteja completando o álbum com mais um amigo?\n",
        "2.  Qual o valor médio gasto caso se esteja completando o álbum com mais dois amigos?"
      ],
      "metadata": {
        "id": "HAsEJ1Zs2VSr"
      }
    },
    {
      "cell_type": "code",
      "execution_count": 1,
      "metadata": {
        "id": "4ertOhTM2Up_"
      },
      "outputs": [],
      "source": [
        "n_album = 212\n",
        "preco_pacote = 4\n",
        "cromos_por_pacote = 4\n",
        "preco_album = 10 \n",
        "simulacoes = 1000"
      ]
    },
    {
      "cell_type": "code",
      "source": [
        "import numpy as np\n",
        "\n",
        "# representação do álbum\n",
        "album = np.zeros(n_album) \n",
        "\n",
        "# representação do pacote de figurinhas\n",
        "pacotinho = np.random.choice(range(n_album), cromos_por_pacote)\n",
        "pacotinho\n",
        "\n",
        "# 'colando' as figurinhas obtidas no álbum\n",
        "for i in pacotinho:\n",
        "    album[i] += 1"
      ],
      "metadata": {
        "id": "S4sbHYYJ3q6i"
      },
      "execution_count": 2,
      "outputs": []
    },
    {
      "cell_type": "code",
      "source": [
        "# comprando figurinhas até completar o álbum\n",
        "def SimulaAlbum():\n",
        "    album = np.zeros(n_album) \n",
        "    pacotes = 0\n",
        "    while not np.all(album >= 1):\n",
        "        pacotinho = np.random.choice(range(n_album), 4)\n",
        "        pacotes += 1\n",
        "\n",
        "        for i in pacotinho:\n",
        "            album[i] += 1\n",
        " \n",
        "    valor_gasto = preco_album + preco_pacote * pacotes \n",
        "\n",
        "    return valor_gasto, pacotes\n",
        "\n",
        "SimulaAlbum()"
      ],
      "metadata": {
        "colab": {
          "base_uri": "https://localhost:8080/"
        },
        "id": "B7pjFl-E3uHJ",
        "outputId": "44ba84dc-a45f-48e4-ac6e-4ebb3be4427c"
      },
      "execution_count": 3,
      "outputs": [
        {
          "output_type": "execute_result",
          "data": {
            "text/plain": [
              "(1202, 298)"
            ]
          },
          "metadata": {},
          "execution_count": 3
        }
      ]
    },
    {
      "cell_type": "code",
      "source": [
        "def Simulacao(simulacoes = 1000, silencio = False):\n",
        "    valores = []\n",
        "    for i in range(simulacoes):\n",
        "        valores.append(SimulaAlbum()[0])\n",
        "        if not silencio:\n",
        "            if (i+1) % 100 == 0:\n",
        "                print('Simulação: ', i+1, '/', simulacoes)\n",
        "    return valores\n",
        "\n",
        "sim = Simulacao(simulacoes)"
      ],
      "metadata": {
        "colab": {
          "base_uri": "https://localhost:8080/"
        },
        "id": "DxoQUU_e3zdW",
        "outputId": "a60be7ab-6f5d-4db7-e619-98fb4d265006"
      },
      "execution_count": 4,
      "outputs": [
        {
          "output_type": "stream",
          "name": "stdout",
          "text": [
            "Simulação:  100 / 1000\n",
            "Simulação:  200 / 1000\n",
            "Simulação:  300 / 1000\n",
            "Simulação:  400 / 1000\n",
            "Simulação:  500 / 1000\n",
            "Simulação:  600 / 1000\n",
            "Simulação:  700 / 1000\n",
            "Simulação:  800 / 1000\n",
            "Simulação:  900 / 1000\n",
            "Simulação:  1000 / 1000\n"
          ]
        }
      ]
    },
    {
      "cell_type": "code",
      "source": [
        "#questões 1 e 2\n",
        "print('O valor médio gasto foi:', round(np.mean(sim), 2))\n",
        "print('O numero de pacotes médio foi:', round((np.mean(sim) - preco_album)/preco_pacote, 2))"
      ],
      "metadata": {
        "colab": {
          "base_uri": "https://localhost:8080/"
        },
        "id": "FMDq-dAi4OI9",
        "outputId": "c5ed7f40-39ae-40ce-b681-0d88fa75053d"
      },
      "execution_count": 5,
      "outputs": [
        {
          "output_type": "stream",
          "name": "stdout",
          "text": [
            "O valor médio gasto foi: 1269.69\n",
            "O numero de pacotes médio foi: 314.92\n"
          ]
        }
      ]
    },
    {
      "cell_type": "code",
      "source": [
        "#questão 3\n",
        "import matplotlib.pyplot as plt\n",
        "plt.hist(sim, bins = 20, density = True, color = 'royalblue', edgecolor = 'black')\n",
        "plt.title('Distribuição Empírica do Valor Gasto para Completar o Álbum')\n",
        "plt.show()"
      ],
      "metadata": {
        "colab": {
          "base_uri": "https://localhost:8080/",
          "height": 283
        },
        "id": "u1qXXcuv4Svm",
        "outputId": "fca64ad1-2d1e-491b-ae12-0ba8fa3925b8"
      },
      "execution_count": 6,
      "outputs": [
        {
          "output_type": "display_data",
          "data": {
            "text/plain": [
              "<Figure size 432x288 with 1 Axes>"
            ],
            "image/png": "[encoded data removed]"
          },
          "metadata": {
            "needs_background": "light"
          }
        }
      ]
    },
    {
      "cell_type": "code",
      "source": [
        "# questoes 4 e 5\n",
        " \n",
        "prob1 = sum(np.array(sim) < 1500)/simulacoes\n",
        "prob2 = sum(np.array(sim) > np.array(sim).mean())/simulacoes\n",
        " \n",
        "print('A probabilidade de se gastar menos de 1500 é {:.2f}%'.format(prob1*100))\n",
        "print('A probabilidade de se gastar mais do que a média é {:.2f}%'.format(prob2*100))"
      ],
      "metadata": {
        "colab": {
          "base_uri": "https://localhost:8080/"
        },
        "id": "kOxVb_Qq4xyT",
        "outputId": "db7cc5f7-0a71-45a0-8b34-631f1f04282a"
      },
      "execution_count": 7,
      "outputs": [
        {
          "output_type": "stream",
          "name": "stdout",
          "text": [
            "A probabilidade de se gastar menos de 1500 é 83.40%\n",
            "A probabilidade de se gastar mais do que a média é 44.60%\n"
          ]
        }
      ]
    },
    {
      "cell_type": "code",
      "source": [
        "# questao 6\n",
        "\n",
        "qts = np.quantile(sim, [0.025, 0.975])\n",
        "print('O intervalo de confiança de 95% para o gasto total é ({:.2f}, {:.2f})'.format(qts[0], qts[1]))"
      ],
      "metadata": {
        "colab": {
          "base_uri": "https://localhost:8080/"
        },
        "id": "UqLlItNM44XL",
        "outputId": "84607378-6a64-4059-a02e-2512120445e9"
      },
      "execution_count": 8,
      "outputs": [
        {
          "output_type": "stream",
          "name": "stdout",
          "text": [
            "O intervalo de confiança de 95% para o gasto total é (882.00, 1870.00)\n"
          ]
        }
      ]
    },
    {
      "cell_type": "code",
      "source": [
        "# comprando figurinhas até completar o álbum\n",
        "def SimulaAlbum(qtde_albuns = 1):\n",
        "    album = np.zeros(n_album) \n",
        "    pacotes = 0\n",
        "    while not np.all(album >= qtde_albuns):\n",
        "        pacotinho = np.random.choice(range(n_album), 4)\n",
        "        pacotes += 1\n",
        "\n",
        "        for i in pacotinho:\n",
        "            album[i] += 1\n",
        " \n",
        "\n",
        "    valor_gasto = qtde_albuns*preco_album + preco_pacote * pacotes \n",
        "    valor_gasto_por_album = valor_gasto/qtde_albuns\n",
        "\n",
        "    return valor_gasto, pacotes, valor_gasto_por_album\n",
        "\n",
        "SimulaAlbum(2)"
      ],
      "metadata": {
        "colab": {
          "base_uri": "https://localhost:8080/"
        },
        "id": "7hpLMUAH48_d",
        "outputId": "d1340764-8cf9-4523-df57-47d1a8d17ada"
      },
      "execution_count": 9,
      "outputs": [
        {
          "output_type": "execute_result",
          "data": {
            "text/plain": [
              "(1960, 485, 980.0)"
            ]
          },
          "metadata": {},
          "execution_count": 9
        }
      ]
    },
    {
      "cell_type": "code",
      "source": [
        "def Simulacao(qtde_albuns, simulacoes = 1000, silencio = False):\n",
        "    valores = []\n",
        "    for i in range(simulacoes):\n",
        "        valores.append(SimulaAlbum(qtde_albuns)[2])\n",
        "        if not silencio:\n",
        "            if (i+1) % 100 == 0:\n",
        "                print('Simulação: ', i+1, '/', simulacoes)\n",
        "    return valores\n",
        "\n",
        "sim = Simulacao(qtde_albuns = 2, simulacoes = 100)"
      ],
      "metadata": {
        "colab": {
          "base_uri": "https://localhost:8080/"
        },
        "id": "JQ6_Oh5S5G7s",
        "outputId": "f6e81c21-3502-406b-8df4-0b0b6d3cfa5e"
      },
      "execution_count": 10,
      "outputs": [
        {
          "output_type": "stream",
          "name": "stdout",
          "text": [
            "Simulação:  100 / 100\n"
          ]
        }
      ]
    },
    {
      "cell_type": "code",
      "source": [
        "# questões 7 e 8\n",
        "\n",
        "sim2 = Simulacao(2, 100, silencio = True) \n",
        "c2 = np.array(sim2).mean() \n",
        "\n",
        "sim3 = Simulacao(3, 100, silencio = True) \n",
        "c3 = np.array(sim3).mean()  \n",
        "\n",
        "print('Custo médio entre 2 amigos:', round(c2, 2) )\n",
        "print('Custo médio entre 3 amigos:', round(c3, 2) )"
      ],
      "metadata": {
        "colab": {
          "base_uri": "https://localhost:8080/"
        },
        "id": "8ZIIx6655Kw_",
        "outputId": "561c44cb-e9ed-4bbf-db23-90da289aa118"
      },
      "execution_count": 11,
      "outputs": [
        {
          "output_type": "stream",
          "name": "stdout",
          "text": [
            "Custo médio entre 2 amigos: 878.3\n",
            "Custo médio entre 3 amigos: 739.13\n"
          ]
        }
      ]
    },
    {
      "cell_type": "code",
      "source": [
        "import time\n",
        "\n",
        "def SimulacaoAmigos(amigos = 40, simulacoes = 10):\n",
        "    medias = []\n",
        "    amigos = list(range(1, amigos + 1, 1))\n",
        "    for i in amigos: \n",
        "        t = time.time()\n",
        "        aux = Simulacao(i, simulacoes, silencio = True)\n",
        "        tempo = round(time.time() - t, 2)\n",
        "        print('Tempo total de {}s para a simulação com {} amigo(s)'.format(tempo, i))\n",
        "        medias.append(np.array(aux).mean())\n",
        "    return amigos, medias\n",
        "    \n",
        "sim_amigos = SimulacaoAmigos(amigos = 10, simulacoes = 5)"
      ],
      "metadata": {
        "colab": {
          "base_uri": "https://localhost:8080/"
        },
        "id": "8xO6LRuT5STE",
        "outputId": "121e4c98-6244-4fd5-ab13-8de9c2a7a05b"
      },
      "execution_count": 12,
      "outputs": [
        {
          "output_type": "stream",
          "name": "stdout",
          "text": [
            "Tempo total de 0.18s para a simulação com 1 amigo(s)\n",
            "Tempo total de 0.23s para a simulação com 2 amigo(s)\n",
            "Tempo total de 0.14s para a simulação com 3 amigo(s)\n",
            "Tempo total de 0.27s para a simulação com 4 amigo(s)\n",
            "Tempo total de 0.36s para a simulação com 5 amigo(s)\n",
            "Tempo total de 0.36s para a simulação com 6 amigo(s)\n",
            "Tempo total de 0.41s para a simulação com 7 amigo(s)\n",
            "Tempo total de 0.48s para a simulação com 8 amigo(s)\n",
            "Tempo total de 0.58s para a simulação com 9 amigo(s)\n",
            "Tempo total de 0.56s para a simulação com 10 amigo(s)\n"
          ]
        }
      ]
    },
    {
      "cell_type": "code",
      "source": [
        "import math\n",
        "def GraficoCustoAmigos(simulacao):\n",
        "\n",
        "    minimo_possivel = math.ceil(n_album/cromos_por_pacote)*preco_pacote \n",
        "\n",
        "    plt.figure(figsize=(18, 6))\n",
        "    plt.bar(simulacao[0], simulacao[1], width = 0.5, color = 'royalblue')\n",
        "    plt.xticks(simulacao[0])\n",
        "    plt.axhline(y = minimo_possivel, linestyle = 'dashed', color = 'blue')\n",
        "    plt.title('Custo médio aproximado para\\n completar o álbum em função do tamanho\\n do grupo de pessoas trocando figurinhas')\n",
        "    plt.show()\n",
        "\n",
        "GraficoCustoAmigos(sim_amigos)"
      ],
      "metadata": {
        "colab": {
          "base_uri": "https://localhost:8080/",
          "height": 420
        },
        "id": "zmyN_oGH57YV",
        "outputId": "cb8b02bf-99ba-428e-fdbf-80d327c2b45f"
      },
      "execution_count": 13,
      "outputs": [
        {
          "output_type": "display_data",
          "data": {
            "text/plain": [
              "<Figure size 1296x432 with 1 Axes>"
            ],
            "image/png": "[encoded data removed]"
          },
          "metadata": {
            "needs_background": "light"
          }
        }
      ]
    },
    {
      "cell_type": "code",
      "source": [
        ""
      ],
      "metadata": {
        "id": "gX_ZTqI16Y2T"
      },
      "execution_count": 13,
      "outputs": []
    }
  ]
}